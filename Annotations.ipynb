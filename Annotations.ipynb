{
 "cells": [
  {
   "cell_type": "code",
   "execution_count": 2,
   "metadata": {},
   "outputs": [],
   "source": [
    "import pandas as pd\n",
    "import numpy as np"
   ]
  },
  {
   "cell_type": "code",
   "execution_count": 3,
   "metadata": {
    "collapsed": true
   },
   "outputs": [],
   "source": [
    "file = 'data.csv'"
   ]
  },
  {
   "cell_type": "code",
   "execution_count": 8,
   "metadata": {
    "collapsed": true
   },
   "outputs": [],
   "source": [
    "# Import file: data\n",
    "data = pd.read_csv(file, sep=',', comment='#', na_values='Nothing')"
   ]
  },
  {
   "cell_type": "code",
   "execution_count": 9,
   "metadata": {},
   "outputs": [
    {
     "name": "stdout",
     "output_type": "stream",
     "text": [
      "  Carimbo de data/hora                       Nome:         CPF Sexo  \\\n",
      "0  12/12/2017 10:07:36    Marques de Souza Almeida  2715935129    M   \n",
      "1  12/12/2017 10:18:10       Lidia de Paula Borges  5085139100    F   \n",
      "2  12/12/2017 10:39:59      Gerverson Silva Araujo  4557105114    M   \n",
      "3  12/12/2017 11:28:05  Natã camilo Oliveira leite  5675957146    M   \n",
      "4  12/12/2017 12:08:20       Daniela Azevedo Alves  6569962183    F   \n",
      "\n",
      "   Quantidade de dependentes da Renda Bruta Domiciliar (RBD)\\t  \\\n",
      "0                                                  4             \n",
      "1                                                  5             \n",
      "2                                                  1             \n",
      "3                                                  2             \n",
      "4                                                  2             \n",
      "\n",
      "   Origem da renda\\t Renda Bruta Domiciliar\\t  \\\n",
      "0                  4              R$ 4.000,00   \n",
      "1                  5              R$ 6.000,00   \n",
      "2                  1              R$ 1.200,00   \n",
      "3                  1                R$ 300,00   \n",
      "4                  2              R$ 1.000,00   \n",
      "\n",
      "   Dependentes da Renda Bruta Domiciliar  \\\n",
      "0                                      4   \n",
      "1                                      5   \n",
      "2                                      1   \n",
      "3                                      2   \n",
      "4                                      2   \n",
      "\n",
      "   Responsável pela manutenção do domicílio\\t Renda per capita domiciliar  \\\n",
      "0  Os quatro indivíduos contribuem igualmente           234,25 até 468,49   \n",
      "1          Pedro Alcântara Gomes Borges - Pai             468,50 a 937,00   \n",
      "2                                          eu             468,50 a 937,00   \n",
      "3                                           1            de 0 até 234, 24   \n",
      "4                                         Mãe             468,50 a 937,00   \n",
      "\n",
      "                         ...                          \\\n",
      "0                        ...                           \n",
      "1                        ...                           \n",
      "2                        ...                           \n",
      "3                        ...                           \n",
      "4                        ...                           \n",
      "\n",
      "  Você sofreu ou sofre algum tipo de preconceito?  [Racial]  \\\n",
      "0                                      Não se aplica          \n",
      "1                                      Não se aplica          \n",
      "2                                      Não se aplica          \n",
      "3                                      Não se aplica          \n",
      "4                                      Não se aplica          \n",
      "\n",
      "  Você sofreu ou sofre algum tipo de preconceito?  [Gênero]  \\\n",
      "0                                      Não se aplica          \n",
      "1                                      Não se aplica          \n",
      "2                                      Não se aplica          \n",
      "3                                      Não se aplica          \n",
      "4                                      Não se aplica          \n",
      "\n",
      "  Você sofreu ou sofre algum tipo de preconceito?  [Orientação sexual]  \\\n",
      "0                                      Não se aplica                     \n",
      "1                                      Não se aplica                     \n",
      "2                                      Não se aplica                     \n",
      "3                                               Você                     \n",
      "4                                      Não se aplica                     \n",
      "\n",
      "  Quais são os serviços indisponíveis em seu bairro?  \\\n",
      "0                         Transporte escolar público   \n",
      "1                         Transporte escolar público   \n",
      "2                         Transporte escolar público   \n",
      "3  Ônibus coletivo, ônibus escolar, Táxi, Moto tá...   \n",
      "4         ônibus escolar, Transporte escolar público   \n",
      "\n",
      "  A forma de descarte do lixo de sua casa é:  \\\n",
      "0                 Serviço público de limpeza   \n",
      "1                 Serviço público de limpeza   \n",
      "2                                   Queimado   \n",
      "3                 Serviço público de limpeza   \n",
      "4                 Serviço público de limpeza   \n",
      "\n",
      "  Como você e/ou a sua família se sente em relação a segurança do seu bairro?  \\\n",
      "0  É considerado perigoso e os moradores sofrem  ...                            \n",
      "1  É considerado perigoso e os moradores sofrem  ...                            \n",
      "2  Frequentemente os moradores sofrem  algum tipo...                            \n",
      "3  É considerado perigoso e os moradores sofrem  ...                            \n",
      "4  Frequentemente os moradores sofrem  algum tipo...                            \n",
      "\n",
      "       Qual(is) o maior(es) problemas do seu bairro?           Bairro  \\\n",
      "0  Pavimentação (asfalto nas ruas), Ruas esburaca...  Jardim Paulista   \n",
      "1  Abastecimento de água, Saneamento básico (esgo...           Centro   \n",
      "2  Ruas esburacadas (erosão), Acessibilidade, Áre...          Centro    \n",
      "3                              Serviços de segurança         Santa Fé   \n",
      "4                                                NaN         1306 sul   \n",
      "\n",
      "                 Cidade             Fale mais sobre você e a sua família.   \n",
      "0  Paraiso do Tocantins                                                NaN  \n",
      "1  Paraíso do Tocantins  A família é constituída por 5 pessoas independ...  \n",
      "2  Paraíso do Tocantins                                                NaN  \n",
      "3                Palmas  Minha família é afastada de mim vivo com minha...  \n",
      "4                Palmas                                                NaN  \n",
      "\n",
      "[5 rows x 67 columns]\n"
     ]
    }
   ],
   "source": [
    "print(data.head())"
   ]
  },
  {
   "cell_type": "code",
   "execution_count": 7,
   "metadata": {
    "collapsed": true
   },
   "outputs": [],
   "source": [
    "?pd.read_csv()"
   ]
  },
  {
   "cell_type": "markdown",
   "metadata": {},
   "source": [
    "#### Working with excel files"
   ]
  },
  {
   "cell_type": "code",
   "execution_count": null,
   "metadata": {
    "collapsed": true
   },
   "outputs": [],
   "source": [
    "# Import pandas\n",
    "import pandas as pd\n",
    "\n",
    "# Assign spreadsheet filename: file\n",
    "file = 'battledeath.xlsx'\n",
    "\n",
    "# Load spreadsheet: xl\n",
    "xl = pd.ExcelFile(file)\n",
    "\n",
    "# Print sheet names\n",
    "print(xl.sheet_names)"
   ]
  },
  {
   "cell_type": "markdown",
   "metadata": {},
   "source": [
    "#### Importing sheets from Excel files"
   ]
  },
  {
   "cell_type": "code",
   "execution_count": null,
   "metadata": {
    "collapsed": true
   },
   "outputs": [],
   "source": [
    "# Load a sheet into a DataFrame by name: df1\n",
    "df1 = xl.parse('2004')\n",
    "\n",
    "# Print the head of the DataFrame df1\n",
    "print(df1.head())\n",
    "\n",
    "# Load a sheet into a DataFrame by index: df2\n",
    "df2 = xl.parse(0)\n",
    "\n",
    "# Print the head of the DataFrame df2\n",
    "print(df2.head())"
   ]
  },
  {
   "cell_type": "markdown",
   "metadata": {},
   "source": [
    "#### Customizing your spreadsheet import"
   ]
  },
  {
   "cell_type": "code",
   "execution_count": null,
   "metadata": {
    "collapsed": true
   },
   "outputs": [],
   "source": []
  }
 ],
 "metadata": {
  "kernelspec": {
   "display_name": "Python 3",
   "language": "python",
   "name": "python3"
  },
  "language_info": {
   "codemirror_mode": {
    "name": "ipython",
    "version": 3
   },
   "file_extension": ".py",
   "mimetype": "text/x-python",
   "name": "python",
   "nbconvert_exporter": "python",
   "pygments_lexer": "ipython3",
   "version": "3.6.1"
  }
 },
 "nbformat": 4,
 "nbformat_minor": 2
}
